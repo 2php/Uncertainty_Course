{
 "cells": [
  {
   "cell_type": "markdown",
   "metadata": {},
   "source": [
    "# **ELG 7172B : **: Homework 9"
   ]
  },
  {
   "cell_type": "markdown",
   "metadata": {},
   "source": [
    "Prof. Miodrag Bolic  <br>\n",
    "**Due: April 3, 2018** <br>\n",
    "Total number of points is 10. \n",
    "Please do problem 1 (3 points) and select problem 2 (7 points) or 3 (7 points). \n"
   ]
  },
  {
   "cell_type": "markdown",
   "metadata": {},
   "source": [
    "### Instructions:\n",
    "\n",
    "+ Upload your answers in an ipython notebook to UOttawa Bright Space.\n",
    "\n",
    "+ Your individual submissions should use the following filenames: ELG_7172B_YOURNAME_HW8.ipynb\n",
    "\n",
    "+ Your code should be in code cells as part of your ipython notebook. Do not use a different format. \n",
    "\n",
    "+ **Do not just send your code. The homework solutions should be in a report style. Be sure to add comments to your code as well as markdown cells where you describe your approach and discuss your results. **\n",
    "\n",
    "+ Please submit your notebook in an **executed** status, so that we can see all the results you computed. However, we will still run your code and all cells should reproduce the output when executed. \n",
    "\n",
    "+ If you have multiple files (e.g. you've added code files or images) create a tarball for all files in a single file and name it: ELG_7172B_YOURNAME_HW8.tar.gz or ELG_7172B_YOURNAME_HW8.zip\n",
    "\n",
    "\n",
    "### Have Fun!\n",
    "_ _ _ _ _"
   ]
  },
  {
   "cell_type": "markdown",
   "metadata": {},
   "source": [
    "# Problem 1: \n",
    "Generate (x, y) points from the following function y = x*sin(x) where x can take values 0, 2, 4, 6, 8, 10, 12 and 14.\n",
    "\n",
    "a)     Perform regression using Gaussian processes. Show the regression curve together with 95% confidence intervals. Try 2 kernels of your choice and explain results.\n",
    "\n",
    "b)     Find the mean and the variance of the prediction $y_*$ for the following values of $x_*$: 1, 14.5 and 18.\n",
    "\n",
    "\n"
   ]
  },
  {
   "cell_type": "markdown",
   "metadata": {},
   "source": [
    "**Please answer this problem by adding cells here.**$$ $$\n",
    "  "
   ]
  },
  {
   "cell_type": "markdown",
   "metadata": {},
   "source": [
    "# Problem 2:\n",
    "Measurements of the number of units per package are done in 5 factories. All factories produce the same kind of units. We are interested in modeling this system and then answering some questions related to uncertainty.\n",
    "\n",
    "a.      Perform preliminary data analysis by drawing the boxplot per location. Obtain mean and variance of units per location and total mean and variance.\n",
    "\n",
    "b.      Define non-hieararchical model in which you would ignore the location information and chose appropriate values for priors. Implement it in PyMC3.\n",
    "\n",
    "c.      Define hierarchical model and chose appropriate values for priors. Implement it in PYMC3. You can use Poisson distribution for the likelihood. Poisson distribution has parameter lambda- you can use Gamma distribution as a prior for it. Parameter lambda can have different values per location.\n",
    "\n",
    "d.      Perform Gelman-Rubin and Autocorrelation check for both models\n",
    "\n",
    "e.      Draw residuals for hierarchical model (both per location as well as for all locations – total 6 graphs) and see if they look uncorrelated and normal.\n",
    "\n",
    "f.      Compute Waic for both hierarchical and non-hierarchical models and compare them.\n",
    "\n",
    "g.      Perform posterior predictive simulation and then answer the following questions: What is the probability that the number of units per package in any location to be greater than 15? What is the probability that the next package produced in location 1 will be less than 7.\n",
    "\n",
    "h.      Repeat previous question by bootstrapping all the data to answer the first part and bootstrapping data for location 1 to answer the second part. Compare the results and comment on them.\n",
    "\n",
    " \n",
    "   "
   ]
  },
  {
   "cell_type": "markdown",
   "metadata": {},
   "source": [
    "**Please answer this problem by adding cells here.** $$ $$\n"
   ]
  },
  {
   "cell_type": "markdown",
   "metadata": {
    "collapsed": true
   },
   "source": [
    "## Problem 3 - Literature Review\n",
    "\n",
    "Literature review need to include the analysis of minimum 3 research papers that are related to the concepts that we statied until now but applied to the theory of measurements, measurement errors, modeling engineering/scientific/medical systems. You can find papers on Google scholar. Examples of topics include: hierarchical models and their use for modeling measurement errors, system/instrument/devices that are modeled using Gaussian processes, Bayesian models and their callibration, Bayesian machine learning and applications for measurement errors, smart metrology and so on. Literature review should not include only what other researcher did but also how this compares to other works and how is this related to the concepts covered in our course. Please submit your work in IEEE format for conferences in Latex https://www.ieee.org/conferences_events/conferences/publishing/templates.html or as a notebook. If you would like to get feedback on your topic before writing please contact me. "
   ]
  },
  {
   "cell_type": "code",
   "execution_count": null,
   "metadata": {
    "collapsed": true
   },
   "outputs": [],
   "source": []
  }
 ],
 "metadata": {
  "kernelspec": {
   "display_name": "Python [default]",
   "language": "python",
   "name": "python3"
  },
  "language_info": {
   "codemirror_mode": {
    "name": "ipython",
    "version": 3
   },
   "file_extension": ".py",
   "mimetype": "text/x-python",
   "name": "python",
   "nbconvert_exporter": "python",
   "pygments_lexer": "ipython3",
   "version": "3.6.1"
  }
 },
 "nbformat": 4,
 "nbformat_minor": 2
}
