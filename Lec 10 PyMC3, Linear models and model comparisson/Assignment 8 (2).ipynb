{
 "cells": [
  {
   "cell_type": "markdown",
   "metadata": {},
   "source": [
    "# **ELG 7172B : **: Homework 8"
   ]
  },
  {
   "cell_type": "markdown",
   "metadata": {},
   "source": [
    "Prof. Miodrag Bolic   <br>\n",
    "**Due: March 27, 2018** <br>\n",
    "Total number of points is 14 (sh 3 and 5 questions 2 points each and Problem 3 is 4 points). You need 10 points for the full grade. <br>\n"
   ]
  },
  {
   "cell_type": "code",
   "execution_count": null,
   "metadata": {
    "collapsed": true
   },
   "outputs": [],
   "source": [
    "import numpy as np\n",
    "import matplotlib\n",
    "import matplotlib.pyplot as plt\n",
    "from mpl_toolkits.mplot3d import Axes3D\n",
    "%matplotlib inline\n",
    "\n",
    "import seaborn as sns\n",
    "sns.set_style(\"white\")\n",
    "\n",
    "import time\n",
    "\n",
    "import scipy.stats"
   ]
  },
  {
   "cell_type": "markdown",
   "metadata": {},
   "source": [
    "**Do the following problems from the book Bayesian analysis with Python:** <br>"
   ]
  },
  {
   "cell_type": "markdown",
   "metadata": {},
   "source": [
    "# Chapter 3 - Question 5"
   ]
  },
  {
   "cell_type": "markdown",
   "metadata": {},
   "source": [
    "# Chapter 5 - Question 1, 2, 5 and 6"
   ]
  },
  {
   "cell_type": "markdown",
   "metadata": {},
   "source": [
    "# Problem 3: \n",
    "\n",
    "IQ test is performed on n people m times each. The data are the measures $ X_{ij} $ for the i = 1, . . . , n people and their j = 1, . . . , m \n",
    "repeated test scores. The model can be presented as below. Please use $\\sigma^2$ in the model and not $1/\\sigma^2$ as in the figure.\n",
    "\n",
    "![alt text](image.png \"Title\")\n",
    "\n",
    "Assume that we got the following test scores for 3 people: (90, 95, 100), (105, 110, 115), and (150, 155, 160).\n",
    "    \n",
    "(a) Use the posterior distribution for each person’s $ \\mu_{i} $ to estimate their IQ. What can we say about the precision of the IQ test?\n",
    "\n",
    "(b) Use mean of 100 and standard deviation of 15 for $\\mu$. Repeat question (a)\n",
    "\n",
    "(c) Repeat both of the above stages (i.e., using both priors on $\\mu_{i}$) with a new, but closely related, data set that has scores of \n",
    "(94, 95, 96), (109, 110, 111), and (154, 155, 156). How do the different prior assumptions affect IQ estimation for these data. \n",
    "Why does it not follow the same pattern as the previous data?\n",
    "\n"
   ]
  },
  {
   "cell_type": "code",
   "execution_count": null,
   "metadata": {
    "collapsed": true
   },
   "outputs": [],
   "source": []
  },
  {
   "cell_type": "markdown",
   "metadata": {},
   "source": [
    "## Solutions:"
   ]
  }
 ],
 "metadata": {
  "anaconda-cloud": {},
  "kernelspec": {
   "display_name": "Python [default]",
   "language": "python",
   "name": "python3"
  },
  "language_info": {
   "codemirror_mode": {
    "name": "ipython",
    "version": 3
   },
   "file_extension": ".py",
   "mimetype": "text/x-python",
   "name": "python",
   "nbconvert_exporter": "python",
   "pygments_lexer": "ipython3",
   "version": "3.6.1"
  }
 },
 "nbformat": 4,
 "nbformat_minor": 2
}
