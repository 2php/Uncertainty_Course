{
 "cells": [
  {
   "cell_type": "markdown",
   "metadata": {},
   "source": [
    "# **ELG 7172B : **: Homework 7"
   ]
  },
  {
   "cell_type": "markdown",
   "metadata": {},
   "source": [
    "Prof. Miodrag Bolic  <br>\n",
    "**Due: March 20, 2018** <br>\n",
    "Total number of points is 9. Please solve 3 out of 4 questions (each question is 3 points).  <br>\n",
    "\n"
   ]
  },
  {
   "cell_type": "markdown",
   "metadata": {},
   "source": [
    "##### Instructions:\n",
    "\n",
    "+ Upload your answers in an ipython notebook to UOttawa Bright Space.\n",
    "\n",
    "+ Your individual submissions should use the following filenames: ELG_7172B_YOURNAME_HW7.ipynb\n",
    "\n",
    "+ Your code should be in code cells as part of your ipython notebook. Do not use a different format. \n",
    "\n",
    "+ **Do not just send your code. The homework solutions should be in a report style. Be sure to add comments to your code as well as markdown cells where you describe your approach and discuss your results. **\n",
    "\n",
    "+ Please submit your notebook in an **executed** status, so that we can see all the results you computed. However, we will still run your code and all cells should reproduce the output when executed. \n",
    "\n",
    "+ If you have multiple files (e.g. you've added code files or images) create a tarball for all files in a single file and name it: ELG_7172B_YOURNAME_HW7.tar.gz or ELG_7172B_YOURNAME_HW7.zip\n",
    "\n",
    "\n",
    "### Have Fun!\n",
    "_ _ _ _ _"
   ]
  },
  {
   "cell_type": "markdown",
   "metadata": {},
   "source": [
    "\n",
    " "
   ]
  },
  {
   "cell_type": "markdown",
   "metadata": {},
   "source": [
    "# Problem 1:\n",
    "\n",
    "Go to https://people.duke.edu/~ccc14/sta-663/MCMC.html and read section Metropolis-Hastings sampler. <br>\n",
    "A.Run Metropolis sampler code and:<br>\n",
    "1. Analyze how variance of the proposal distribution sigma affects the sampling\n",
    "2. Suggest another proposal distribution and analyze quality of sampling\n",
    "3. Consider PyMC3 implementation of the problem - please see for example https://people.duke.edu/~ccc14/sta-663/PyMC3.html . Then, using PyMC3 documentation http://docs.pymc.io/api/inference.html#module-pymc3.sampling (find Metropolis) modify the parameters of the sampler and repeat steps 1 and 2.\n"
   ]
  },
  {
   "cell_type": "markdown",
   "metadata": {},
   "source": [
    "**Please answer this problem by adding cells here.**$$ $$\n",
    "  "
   ]
  },
  {
   "cell_type": "markdown",
   "metadata": {},
   "source": [
    "# Problem 2:\n",
    "\n",
    "Run Metropolis Hastings sampling algorithm of size 5000 to sample from the following posterior distribution:\n",
    "$$p(\\theta)= 0.6*e^{-\\theta^2/2}+0.2*e^{-(\\theta-3)^2/8}$$\n",
    "You can use PyMC3 (for example see Sampler statistics https://docs.pymc.io/notebooks/sampler-stats.html). Analyze the following:\n",
    "1. Autocorellation plot\n",
    "2. Gelma-rubin\n",
    "3. HPD\n",
    "4. Effective size <br>\n",
    "You can find code for that in chapter 2 of Bayesian analysis with Python.\n"
   ]
  },
  {
   "cell_type": "markdown",
   "metadata": {
    "collapsed": true
   },
   "source": [
    "**Please answer this problem by adding cells here.** $$ $$\n"
   ]
  },
  {
   "cell_type": "markdown",
   "metadata": {},
   "source": [
    "# Problem 3:\n",
    "\n",
    "\n",
    "For the implementation of coin flip from Chapter 2 of the book Bayesian analysis with Python, please do the following:\n",
    "1. Replace the beta distribution with a uniform one in the interval [0,1]. Are the results equivalent to Beta(1, 1). Is the sampling slower, faster, or the same? What about using a larger interval such as [-1, 2]? Does the model run? What errors do you get? And what do you get if you don't use find_MAP()?\n",
    "\n",
    "2. Modify the amount of burnin. Try it with values such as 0 and 500. Try it also with and without the find_MAP() function. How different are the results? \n"
   ]
  },
  {
   "cell_type": "markdown",
   "metadata": {},
   "source": [
    "**Please answer this problem by adding cells here.** $$ $$"
   ]
  },
  {
   "cell_type": "markdown",
   "metadata": {},
   "source": [
    "# Problem 4:\n",
    "\n",
    "Take a look at the section \"Estimating parameters of a linear regreession model\" in https://people.duke.edu/~ccc14/sta-663/PyMC3.html .\n",
    "Find 95% confidence interval of each parameter of the model: a, b and $\\tau$. Compare your results with the results you would obtain using traditional linear regression. \n",
    "    "
   ]
  },
  {
   "cell_type": "markdown",
   "metadata": {
    "collapsed": true
   },
   "source": [
    "**Please answer this problem by adding cells here.**\n"
   ]
  },
  {
   "cell_type": "markdown",
   "metadata": {},
   "source": []
  },
  {
   "cell_type": "markdown",
   "metadata": {},
   "source": [
    "\n",
    "    "
   ]
  }
 ],
 "metadata": {
  "anaconda-cloud": {},
  "kernelspec": {
   "display_name": "Python [default]",
   "language": "python",
   "name": "python3"
  },
  "language_info": {
   "codemirror_mode": {
    "name": "ipython",
    "version": 3
   },
   "file_extension": ".py",
   "mimetype": "text/x-python",
   "name": "python",
   "nbconvert_exporter": "python",
   "pygments_lexer": "ipython3",
   "version": "3.5.2"
  }
 },
 "nbformat": 4,
 "nbformat_minor": 1
}
