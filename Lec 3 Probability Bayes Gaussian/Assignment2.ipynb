{
 "cells": [
  {
   "cell_type": "markdown",
   "metadata": {},
   "source": [
    "# **ELG 7172B : **: Homework 2"
   ]
  },
  {
   "cell_type": "markdown",
   "metadata": {},
   "source": [
    "##### Prof. Miodrag Bolic  <br>\n",
    "**Due: Jan 29, 2018** <br>\n",
    "Total number of points is 10. Please solve 4 out of 5 problems. <br>\n",
    "Bonus is additional 5 points. Please do only one of the two bonus questions."
   ]
  },
  {
   "cell_type": "markdown",
   "metadata": {},
   "source": [
    "### Instructions:\n",
    "\n",
    "+ Upload your answers in an ipython notebook to UOttawa Bright Space.\n",
    "\n",
    "+ Your individual submissions should use the following filenames: ELG_7172B_YOURNAME_HW2.ipynb\n",
    "\n",
    "+ Your code should be in code cells as part of your ipython notebook. Do not use a different format. \n",
    "\n",
    "+ **Do not just send your code. The homework solutions should be in a report style. Be sure to add comments to your code as well as markdown cells where you describe your approach and discuss your results. **\n",
    "\n",
    "+ Please submit your notebook in an **executed** status, so that we can see all the results you computed. However, we will still run your code and all cells should reproduce the output when executed. \n",
    "\n",
    "+ If you have multiple files (e.g. you've added code files or images) create a tarball for all files in a single file and name it: ELG_7172B_YOURNAME_HW2.tar.gz or ELG_7172B_YOURNAME_HW2.zip\n",
    "\n",
    "\n",
    "\n",
    "_ _ _ _ _"
   ]
  },
  {
   "cell_type": "code",
   "execution_count": 1,
   "metadata": {
    "collapsed": true
   },
   "outputs": [],
   "source": [
    "import numpy as np\n",
    "import matplotlib\n",
    "import matplotlib.pyplot as plt\n",
    "from mpl_toolkits.mplot3d import Axes3D\n",
    "%matplotlib inline\n",
    "\n",
    "import seaborn as sns\n",
    "sns.set_style(\"white\")\n",
    "\n",
    "import time\n",
    "\n",
    "import scipy.stats "
   ]
  },
  {
   "cell_type": "markdown",
   "metadata": {},
   "source": [
    "# Problem 1:\n",
    "\n",
    "Below are some examples of the error models used in instrimentation: \n",
    "Quantization with ROUNDING [1]: Use uniform distribution, with resolution a.\n",
    "For example, if the smallest increment on a scale is 1/8 in, then a = 0.125 in and $\\sigma$ = 0.03608 in based on $\\sigma=a/\\sqrt(12)$. Example is A/D converter where $a=V_{range} / 2^n$ there $n$ is the resolution of A/D converter $V_{range}$ is the range of the voltage at the input of the A/D converter.\n",
    "\n",
    "Quantization with TRUNCATION [1]\n",
    "Digital displays often truncate readings: use uniform distribution, with resolution a.\n",
    "For example, if the smallest digit on a scale represents 0.01 lb, then a = 0.01 lb and $\\sigma$ = 0.00577 lb based on $\\sigma=a/\\sqrt(3)$. Please note that the standard deviation of the error is smaller than in the case of rounding. \n",
    "\n",
    "Reference: \n",
    "[1] C. Ratcliffe, B. Ratcliffe, Doubt-Free Uncertainty In Measurement, Springer, 2015.\n",
    "\n",
    "Find at least 3 other probability models used in literature for representing errors of measurements in science and/or engineering that use different distributions from the ones presented above. Show examples and point out to the references. You can use web, papers, books, slides,... Key words could be uncertainty propagation, error distribution, errors in measurements, metrology and errors and so on.  "
   ]
  },
  {
   "cell_type": "markdown",
   "metadata": {},
   "source": [
    "**Please answer this problem by adding cells here.**"
   ]
  },
  {
   "cell_type": "markdown",
   "metadata": {},
   "source": [
    "# Problem 2:\n",
    "a) Observe the code below. Draw the relationship between the parameter w changing from 0 to 1 and the correlation coefficient. Why does the curve look like that.\n",
    "b) \n",
    "The water level in a particular lake depends on two sources, direct rainfall $X$ and inflow from a stream $Y$. The rainfall $Z$ around the lake can be considered as a random variable\n",
    "with a mean of $\\mu_{z}$ and a standard deviation of $\\sigma_{z}$. $X$ and $Y$ are related to $Z$ as \n",
    "\n",
    "$ X = a Z $\n",
    "\n",
    "$ Y = b + c Z $\n",
    "\n",
    "where a, b and c are constants . X and Y are functions of a random variable and are therefore also random. Calculate the correlation coefficient $\\rho_{x,y}$ and simulate this situation in Python by modifying the code below.\n",
    "\n",
    "\n"
   ]
  },
  {
   "cell_type": "markdown",
   "metadata": {},
   "source": [
    "**Please answer this problem by adding cells here.**"
   ]
  },
  {
   "cell_type": "code",
   "execution_count": 2,
   "metadata": {},
   "outputs": [
    {
     "name": "stdout",
     "output_type": "stream",
     "text": [
      "0.582, 0.588, 0.588\n"
     ]
    }
   ],
   "source": [
    "\n",
    "#Here is the example code from https://github.com/mwaskom/Psych216/blob/master/week2_tutorial.ipynb\n",
    "n = 100\n",
    "w = 0.6\n",
    "s1 = np.random.normal(0,1,n)  \n",
    "s2 = w * s1 + (1 - w) * np.random.normal(0,2,n)\n",
    "\n",
    "\n",
    "# (Note this isn't all that longwinded since it's a vectorized calculationg)\n",
    "r1 = np.mean(((s1 - np.mean(s1)) / np.std(s1, ddof=1)) * ((s2 - np.mean(s2)) / np.std(s2, ddof=1)))\n",
    "\n",
    "# We can also use functions from the scipy.stats package\n",
    "from scipy import stats\n",
    "r2 = np.mean(stats.zscore(s1) * stats.zscore(s2))\n",
    "\n",
    "# This package even offers a one-step function\n",
    "# Note this returns a tuple (r, p)\n",
    "r3, p3 = stats.pearsonr(s1, s2)\n",
    "\n",
    "print (\"%.3f, %.3f, %.3f\" % (r1, r2, r3))"
   ]
  },
  {
   "cell_type": "markdown",
   "metadata": {},
   "source": [
    "# Problem 3:\n",
    "Normal probability calculation: Let X and Y be normal random variables, with $X\\sim N(0,1)$ and $Y\\sim N(1,4)$. <br>\n",
    "(a) Find $P(X\\leq1.5)$ and $P(X\\leq -1)$ (exactly in terms of cumulative density function $\\phi$, and in Python).<br>\n",
    "(b) What is the distribution of $Y-12$? Generate 1000 random numbers in Python of $Y$ and then compute $Y-12$ for each of them and draw histogram. What are the properties of the new distribution what you can observe from the histogram. Please start with the code given below.<br>\n",
    "(c) Find $P(-1\\leq Y\\leq 1)$ (exactly in terms of $\\phi$, and in Python).<br>\n",
    "\n"
   ]
  },
  {
   "cell_type": "markdown",
   "metadata": {},
   "source": [
    "Here is the example code from: https://github.com/rlabbe/Kalman-and-Bayesian-Filters-in-Python/blob/master/Supporting_Notebooks/Computing_and_plotting_PDFs.ipynb\n",
    "Please modify this code (it is given for the function $y=2x+12$).\n"
   ]
  },
  {
   "cell_type": "code",
   "execution_count": 5,
   "metadata": {},
   "outputs": [
    {
     "data": {
      "image/png": "[encoded data removed]",
      "text/plain": [
       "<matplotlib.figure.Figure at 0x1b138069ef0>"
      ]
     },
     "metadata": {},
     "output_type": "display_data"
    },
    {
     "name": "stdout",
     "output_type": "stream",
     "text": [
      "mean = 13.97\n",
      "std  = 2.80\n"
     ]
    }
   ],
   "source": [
    "def f(x):\n",
    "    return 2*x + 12\n",
    "\n",
    "mean = 1.\n",
    "std = 1.4\n",
    "data = np.random.normal(loc=mean, scale=std, size=10000)\n",
    "\n",
    "d_t = f(data) # transform data through f(x)\n",
    "\n",
    "plt.hist(data, bins=200, normed=True, histtype='step', lw=2)\n",
    "plt.hist(d_t, bins=200, normed=True, histtype='step', lw=2)\n",
    "\n",
    "plt.ylim(0, .35)\n",
    "plt.show()\n",
    "print('mean = {:.2f}'.format(d_t.mean()))\n",
    "print('std  = {:.2f}'.format(d_t.std()))"
   ]
  },
  {
   "cell_type": "code",
   "execution_count": null,
   "metadata": {
    "collapsed": true
   },
   "outputs": [],
   "source": [
    "**Please answer this problem by adding cells here.**"
   ]
  },
  {
   "cell_type": "markdown",
   "metadata": {},
   "source": [
    "# Problem 4:\n",
    "Let X and Y be normal random variables, with X∼N(0,1) and Y∼N(1,4). Please confirm using simulations (by generating 10,000 numbers) the following formulas: <br>\n",
    "a) The product of two independent Gaussians is given by:\n",
    "\n",
    "$$\\begin{aligned}\\mu &=\\frac{\\sigma_1^2\\mu_2 + \\sigma_2^2\\mu_1}{\\sigma_1^2+\\sigma_2^2}\\\\\n",
    "\\sigma^2 &=\\frac{\\sigma_1^2\\sigma_2^2}{\\sigma_1^2+\\sigma_2^2} \n",
    "\\end{aligned}$$\n",
    "\n",
    "b) The sum of two Gaussians is given by\n",
    "\n",
    "$$\\begin{gathered}\\mu = \\mu_1 + \\mu_2 \\\\\n",
    "\\sigma^2 = \\sigma^2_1 + \\sigma^2_2\n",
    "\\end{gathered}$$\n",
    "\n",
    "The code should include the following:\n",
    "- Generation of Gaussian random numbers as in the example from Problem 3.\n",
    "- Computation of the mean and variance using formulas given above\n",
    "- Extracting mean and variance from your histogram and comparisson with the results obtained from the formulas given above"
   ]
  },
  {
   "cell_type": "code",
   "execution_count": null,
   "metadata": {
    "collapsed": true
   },
   "outputs": [],
   "source": []
  },
  {
   "cell_type": "markdown",
   "metadata": {},
   "source": [
    "# Problem 5:\n",
    "Let us consider a model where $x = x_t +e_x$, where $e_x$ is a random error\n",
    "term (i.e. has mean 0 and variance 1). That is, $x_t$ is the “true” value of the variable, and $x$ is the measure of the variable that is observed. The same model is used for the measurement of y, $y=y_t+e_y$, where $e_y$  is a random error term (i.e. has mean 0 and variance 1). \n",
    "\n",
    "A) Create data in Python (1000 points of x and y) that has the following properties\n",
    "$$\\Sigma = \\begin{bmatrix}2&0.7\\\\0.7&\\sqrt(8)\\end{bmatrix}$$\n",
    "$mean_x = 10$, $mean_y=7$, both $e_x$ and $e_y$ are standard Normal.\n",
    "using: $y= y_t + e_y$ and $x = x_t + e_x$.\n",
    "\n",
    "B) Compute mean and variance of x and y. What is the effect of the error term on the mean and variance of x and y.\n",
    "\n",
    "C) Compute the following covariances in Python: $cov (x, y_t)$ and $cov (x_t, y_t)$. From the lecture, you know how to compute, for example, $cov(x_t + e_x, y_t)$. Compare obtained result with the formulas from the lectures.\n",
    "\n",
    "D) Find the correlation coeeficient in Python.\n",
    "\n"
   ]
  },
  {
   "cell_type": "markdown",
   "metadata": {
    "collapsed": true
   },
   "source": [
    "# Bonus problems \n",
    "\n",
    "### Bonus problem 1: \n",
    "Instead of solving problems using scipy.stats use one of these 2 Python tools: OpenTurns http://openturns.github.io/openturns/master/contents.html or Pyro (for those interested in PyTorch) http://docs.pyro.ai/primitive_dist.html "
   ]
  },
  {
   "cell_type": "markdown",
   "metadata": {},
   "source": [
    "### Bonus problem 2: \n",
    "Implement the following problem in Python by simulating multivariate normal and solve analytically. To generate multivariate Gaussian random numbers please use the code below from http://scipy-cookbook.readthedocs.io/items/CorrelatedRandomSamples.html\n",
    "\n",
    " Let $X=(X_1,X_2,X_3)^T$ have a N(µ, Σ) distribution where $µ = (0, 0, 0)^T$ and\n",
    "$$\\Sigma = \\begin{bmatrix}1&-2&0\\\\-2&5&0\\\\0&0&2\\end{bmatrix}$$\n",
    "\n",
    "Find the joint distribution of the following pairs of random variables. Are they independently distributed? Provide explanations for your answers.\n",
    "(i) $X_1$ and $X_2$. <br>\n",
    "(ii) $X_2$ and $X_3$. <br>\n",
    "(iii) ($X_1$, $X_2$) and $X_3$. <br>\n",
    "(iv) ($X_1$ + $X_2$)/2 and $X_3$. <br>\n",
    "(v) $X_2$ and $-2.5X_1 + X_2 - X_3$. <br>"
   ]
  },
  {
   "cell_type": "code",
   "execution_count": 6,
   "metadata": {},
   "outputs": [
    {
     "data": {
      "image/png": "[encoded data removed]",
      "text/plain": [
       "<matplotlib.figure.Figure at 0x1b13460ac50>"
      ]
     },
     "metadata": {},
     "output_type": "display_data"
    }
   ],
   "source": [
    "\"\"\"Example of generating correlated normally distributed random samples.\"\"\"\n",
    "\n",
    "import numpy as np\n",
    "from scipy.linalg import eigh, cholesky\n",
    "from scipy.stats import norm\n",
    "\n",
    "from pylab import plot, show, axis, subplot, xlabel, ylabel, grid\n",
    "\n",
    "\n",
    "# Choice of cholesky or eigenvector method.\n",
    "method = 'cholesky'\n",
    "#method = 'eigenvectors'\n",
    "\n",
    "num_samples = 400\n",
    "\n",
    "# The desired covariance matrix.\n",
    "r = np.array([\n",
    "        [  3.40, -2.75, -2.00],\n",
    "        [ -2.75,  5.50,  1.50],\n",
    "        [ -2.00,  1.50,  1.25]\n",
    "    ])\n",
    "\n",
    "# Generate samples from three independent normally distributed random\n",
    "# variables (with mean 0 and std. dev. 1).\n",
    "x = norm.rvs(size=(3, num_samples))\n",
    "\n",
    "# We need a matrix `c` for which `c*c^T = r`.  We can use, for example,\n",
    "# the Cholesky decomposition, or the we can construct `c` from the\n",
    "# eigenvectors and eigenvalues.\n",
    "\n",
    "if method == 'cholesky':\n",
    "    # Compute the Cholesky decomposition.\n",
    "    c = cholesky(r, lower=True)\n",
    "else:\n",
    "    # Compute the eigenvalues and eigenvectors.\n",
    "    evals, evecs = eigh(r)\n",
    "    # Construct c, so c*c^T = r.\n",
    "    c = np.dot(evecs, np.diag(np.sqrt(evals)))\n",
    "\n",
    "# Convert the data to correlated random variables. \n",
    "y = np.dot(c, x)\n",
    "\n",
    "#\n",
    "# Plot various projections of the samples.\n",
    "#\n",
    "subplot(2,2,1)\n",
    "plot(y[0], y[1], 'b.')\n",
    "ylabel('y[1]')\n",
    "axis('equal')\n",
    "grid(True)\n",
    "\n",
    "subplot(2,2,3)\n",
    "plot(y[0], y[2], 'b.')\n",
    "xlabel('y[0]')\n",
    "ylabel('y[2]')\n",
    "axis('equal')\n",
    "grid(True)\n",
    "\n",
    "subplot(2,2,4)\n",
    "plot(y[1], y[2], 'b.')\n",
    "xlabel('y[1]')\n",
    "axis('equal')\n",
    "grid(True)\n",
    "\n",
    "show()"
   ]
  },
  {
   "cell_type": "code",
   "execution_count": null,
   "metadata": {
    "collapsed": true
   },
   "outputs": [],
   "source": []
  },
  {
   "cell_type": "code",
   "execution_count": null,
   "metadata": {
    "collapsed": true
   },
   "outputs": [],
   "source": []
  }
 ],
 "metadata": {
  "anaconda-cloud": {},
  "kernelspec": {
   "display_name": "Python 3",
   "language": "python",
   "name": "python3"
  },
  "language_info": {
   "codemirror_mode": {
    "name": "ipython",
    "version": 3
   },
   "file_extension": ".py",
   "mimetype": "text/x-python",
   "name": "python",
   "nbconvert_exporter": "python",
   "pygments_lexer": "ipython3",
   "version": "3.6.1"
  }
 },
 "nbformat": 4,
 "nbformat_minor": 1
}
