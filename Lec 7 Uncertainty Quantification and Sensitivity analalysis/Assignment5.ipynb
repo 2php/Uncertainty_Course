{
 "cells": [
  {
   "cell_type": "markdown",
   "metadata": {},
   "source": [
    "# **ELG 7172B : **: Homework 5"
   ]
  },
  {
   "cell_type": "markdown",
   "metadata": {},
   "source": [
    "Prof. Miodrag Bolic  <br>\n",
    "**Due: March 5, 2018** <br>\n",
    "Total number of points is 9. Please solve 3 out of 4 questions (each question is 3 points).  <br>\n",
    "\n",
    "Projects are worths 18 points or more depending on how deep you go in doing research."
   ]
  },
  {
   "cell_type": "markdown",
   "metadata": {},
   "source": [
    "##### Instructions:\n",
    "\n",
    "+ Upload your answers in an ipython notebook to UOttawa Bright Space.\n",
    "\n",
    "+ Your individual submissions should use the following filenames: ELG_7172B_YOURNAME_HW5.ipynb\n",
    "\n",
    "+ Your code should be in code cells as part of your ipython notebook. Do not use a different format. \n",
    "\n",
    "+ **Do not just send your code. The homework solutions should be in a report style. Be sure to add comments to your code as well as markdown cells where you describe your approach and discuss your results. **\n",
    "\n",
    "+ Please submit your notebook in an **executed** status, so that we can see all the results you computed. However, we will still run your code and all cells should reproduce the output when executed. \n",
    "\n",
    "+ If you have multiple files (e.g. you've added code files or images) create a tarball for all files in a single file and name it: ELG_7172B_YOURNAME_HW5.tar.gz or ELG_7172B_YOURNAME_HW5.zip\n",
    "\n",
    "\n",
    "### Have Fun!\n",
    "_ _ _ _ _"
   ]
  },
  {
   "cell_type": "markdown",
   "metadata": {},
   "source": [
    "# Reading\n",
    "First read this tutorial on Sensitivity Analysis: \n",
    "B. Iooss, P. Lemaître, \"A review on global sensitivity analysis methods,\" https://arxiv.org/pdf/1404.2405.pdf\n",
    "\n",
    "Read the short book on Bright Space: B. Ratcliffe and C. Ratcliffe, Doubt‑Free Uncertainty In Measurement: An Introduction for Engineers, Springer, 2015.\n",
    " "
   ]
  },
  {
   "cell_type": "markdown",
   "metadata": {},
   "source": [
    "# Problem 1:\n",
    "\n",
    "Consider the mathematical model of a physical process represented by the equation $Y=acos(X_{1}-1)+E$ , where $X_{1}$ is the\n",
    "uncertain parameter of the mathematical model of the system, $Y \\epsilon R$ is the output quantity of interest $(QoI)$, and \n",
    "$E \\epsilon R$ represents the model error which is quantified by a Gaussian distribution $E \\sim \\mathcal{N}(0,S)$ , where $S \\epsilon R$ . \n",
    "The variable $a$ is known constant. The uncertainty in the output $QoI$ is quantified by the simplified measures of uncertainty such as the mean $\\mu_{Y}$ and \n",
    "standard deviation $\\sigma_{Y}$. Given the uncertainty in the parameter $X_{1}$, find the uncertainty in the output $QoI Y$ in the following cases. \n",
    "\n",
    "a. The parameter $X_{1}$, has mean $\\mu_{1} = 1$ and standard deviation $\\sigma$. \n",
    "\n",
    "b. The parameter $X_{1}$ is uniform with upper and lower bounds $1 -b$ and $1+ b$. Use the analytical approximations based on \n",
    "Taylor series expansion up to the quadratic term. Also find the exact estimate of the mean ,$\\mu_{Y}$ and standard deviation \n",
    "$\\sigma_{Y}$, and investigate the effect of level of the uncertainty in $X_{1}$ on the accuracy of the Taylor series expansion \n",
    "estimate by plotting the errors \n",
    "\n",
    "$\\left | \\mu_{Y}^{apprx} - \\mu_{Y}^{exact} \\right | / \\mu_{Y}^{exact}$\n",
    "\n",
    "$\\left | \\sigma_{Y}^{apprx} - \\sigma_{Y}^{exact} \\right | / \\sigma_{Y}^{exact}$\n",
    "\n",
    "as a function of b ranging from 0 to 1. Comment on the results.\n"
   ]
  },
  {
   "cell_type": "markdown",
   "metadata": {},
   "source": [
    "**Please answer this problem by adding cells here.**$$ $$\n",
    "  "
   ]
  },
  {
   "cell_type": "markdown",
   "metadata": {},
   "source": [
    "# Problem 2:\n",
    "\n",
    " We would like compare Monte Carlo base uncertainty propagation techniques with the perturbation methods for computing variability in the response of the harmonic oscillator:\n",
    "$$ y = f(w_{F},Q) = 1/\\sqrt((k-mw_{F}^2)+(cw_{F}^2)) $$\n",
    "                                      \n",
    "under the assumption that parameters $Q= [m,c,k]^T$ are normally distributed with mean $\\bar{q}= [2.7, 0.24, 8.5]$ and covariance matrix \n",
    "    \n",
    "$V=\n",
    "\\begin{bmatrix}\n",
    "0.002^2 & 0 & 0\\\\ \n",
    "0 & 0.065^2 & 0\\\\ \n",
    "0 & 0 & 0.001^2\n",
    "\\end{bmatrix} $\n",
    "\n",
    "The amplitude of the harmonic oscillator is $ Z_{Q} = f_{0}/\\sqrt{m^2 (w_{0}^2-w_{F}^2)^2 + c^2w_{F}^2}$ , where $w_{0}=\\sqrt{k/m}$ is the natural frequency.\n",
    "\n",
    "We note largest relative uncertainity is associated with the damping parameter c, which is often the case in damped oscillating systems.\n",
    "Finally the mean natural frequency is $w_{0}$=1.7743 Hz. \n",
    "The sensitivities as a function of the drive freqeuncy $w_{F}$ are \n",
    "\n",
    "$\\frac{\\partial f}{\\partial m} = \\frac{(k-mw_{F}^2)w_{F}^2}{{(k-mw_{F}^2)^2+{cw_{F}^2}})^{3/2}}  $ ,\n",
    "\n",
    "$\\frac{\\partial f}{\\partial c} = \\frac{cw_{F}^2}{{(k-mw_{F}^2)^2+{cw_{F}^2}})^{3/2}}$ ,\n",
    "\n",
    "$\\frac{\\partial f}{\\partial m} = \\frac{-(k-mw_{F}^2)}{{(k-mw_{F}^2)^2+{cw_{F}^2}})^{3/2}}$ ,\n",
    "                                               \n",
    "and $S_{T} = [\\frac{\\partial f}{\\partial m},\\frac{\\partial f}{\\partial c},\\frac{\\partial f}{\\partial k}]$. \n",
    "Since the parameters are mutually independent, and normally distributed, it follows that the response is also normally\n",
    "distributed for each input frequency $w_{F}$ with mean $\\bar{y}_{p} = f(\\bar{q}) $ and variance $\\sigma_{p}^{2} = S^{T}VS$. \n",
    "\n",
    "a) Find uncertainty in the output y when $w_F$ is 1.66Hz using Monte Carlo and perturbation methods.\n",
    "\n",
    "b) Find uncertainty in the output y when $w_F$ is 1.77Hz using Monte Carlo and perturbation methods.\n"
   ]
  },
  {
   "cell_type": "markdown",
   "metadata": {
    "collapsed": true
   },
   "source": [
    "**Please answer this problem by adding cells here.** $$ $$\n"
   ]
  },
  {
   "cell_type": "markdown",
   "metadata": {},
   "source": [
    "# Problem 3:\n",
    "\n",
    "\n",
    "Two input factors are normally distributed in the model \n",
    " $Y = X_{1}+ X_{2}$\n",
    "with parameters $\\mu_{1}=1$, $\\mu_{2}=2$, $\\sigma_{1}=3$ , $\\sigma_{2}=2$.\n",
    "\n",
    "a) Calculate the first and second-order indices for the inputs and comment on the level of additivity of the model.\n",
    "\n",
    "\n",
    "\n",
    "\n"
   ]
  },
  {
   "cell_type": "markdown",
   "metadata": {},
   "source": [
    "**Please answer this problem by adding cells here.** $$ $$"
   ]
  },
  {
   "cell_type": "markdown",
   "metadata": {},
   "source": [
    "# Problem 4:\n",
    "\n",
    "A model has eight input factors, but for computational cost's reasons we reduce the number of factors to five.\n",
    "The model is \n",
    " $Y = \\sum_{i=1}^{8} X_{i}$\n",
    " \n",
    " where $X_{i}$ is normally distributed as follows :\n",
    " \n",
    "$X_{i} \\sim N(0,1)$\n",
    "$X_{i} \\sim N(2,2)$\n",
    "$X_{i} \\sim N(1,3)$\n",
    "$X_{i} \\sim N(1,5)$\n",
    "$X_{i} \\sim N(3,1)$\n",
    "$X_{i} \\sim N(4,1)$\n",
    "$X_{i} \\sim N(1,2)$\n",
    "$X_{i} \\sim N(5,5)$\n",
    "\n",
    "(1) Calculate the first-order sensitivity indices (based on Sobol sensitivity analysis) and identify the three least important factors, in order to exclude them from the model.\n",
    "\n",
    "(2) Recalculate the first orders for the remaining five factors and find out which are the most influential: if we decide to fix them at a given value, in their range of variation, by what amount will the variance of the output be reduced? \n",
    "\n",
    "    "
   ]
  },
  {
   "cell_type": "markdown",
   "metadata": {
    "collapsed": true
   },
   "source": [
    "**Please answer this problem by adding cells here.**\n"
   ]
  },
  {
   "cell_type": "markdown",
   "metadata": {},
   "source": [
    "## Project #1 : Cardio vascular modeling and sensitivity analysis"
   ]
  },
  {
   "cell_type": "markdown",
   "metadata": {},
   "source": [
    "We will start with this mathematical model of cardiac function: https://github.com/utsekaj42/uqsa_tutorials/blob/master/wall_models.ipynb .  \n",
    "Implement and analyze sensitivity of the complete model presented in this paper: V. G. Eck, J. Feinberg, H. P. Langtangen and L. R. Hellevik. Stochastic Sensitivity Analysis for Timing and Amplitude of Pressure waves in the Arterial System, International Journal for Numerical Methods in Biomedical Engineering, 31(4), 2015. \n"
   ]
  },
  {
   "cell_type": "markdown",
   "metadata": {
    "collapsed": true
   },
   "source": [
    "## Project #2 : Sensitivity analysis of the model of action potentials  \n",
    "Please start with the model of action potential given on this web page. https://www.gribblelab.org/compneuro/3_Modelling_Action_Potentials.html\n",
    "Performa sensitivity analysis of the parameters of this model using Sobol sensitivity analysis.\n",
    "\n",
    "This project can be further extended into a research paper - please contact me about this project if you are interested."
   ]
  },
  {
   "cell_type": "markdown",
   "metadata": {},
   "source": [
    "\n",
    "    "
   ]
  }
 ],
 "metadata": {
  "anaconda-cloud": {},
  "kernelspec": {
   "display_name": "Python [default]",
   "language": "python",
   "name": "python3"
  },
  "language_info": {
   "codemirror_mode": {
    "name": "ipython",
    "version": 3
   },
   "file_extension": ".py",
   "mimetype": "text/x-python",
   "name": "python",
   "nbconvert_exporter": "python",
   "pygments_lexer": "ipython3",
   "version": "3.5.2"
  }
 },
 "nbformat": 4,
 "nbformat_minor": 1
}
