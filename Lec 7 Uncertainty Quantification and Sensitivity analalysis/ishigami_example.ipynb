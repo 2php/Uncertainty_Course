{
 "cells": [
  {
   "cell_type": "markdown",
   "metadata": {},
   "source": [
    "<!-- dom:TITLE: Polynomial Chaos with the Ishigami Function -->\n",
    "# Sensitivity Analysis with the Ishigami Function\n",
    "<!-- dom:AUTHOR: Jacob Sturdy at Department of Structural Engineering, NTNU -->\n",
    "<!-- Author: -->  \n",
    "This Notebook was started by **Jacob Sturdy**, Department of Structural Engineering, NTNU in Jun 27, 2017.<br>\n",
    "**Miodrag Bolic** modified it by adding Sobol and Morris analysis based on the package **SALib**. \n"
   ]
  },
  {
   "cell_type": "code",
   "execution_count": 102,
   "metadata": {},
   "outputs": [
    {
     "name": "stdout",
     "output_type": "stream",
     "text": [
      "The autoreload extension is already loaded. To reload it, use:\n",
      "  %reload_ext autoreload\n"
     ]
    }
   ],
   "source": [
    "# ipython magic\n",
    "%matplotlib notebook\n",
    "%load_ext autoreload\n",
    "%autoreload 2"
   ]
  },
  {
   "cell_type": "code",
   "execution_count": 103,
   "metadata": {},
   "outputs": [],
   "source": [
    "%matplotlib inline\n",
    "\n",
    "# plot configuration\n",
    "import matplotlib\n",
    "import matplotlib.pyplot as plt\n",
    "plt.style.use(\"ggplot\")\n",
    "# import seaborn as sns # sets another style\n",
    "matplotlib.rcParams['lines.linewidth'] = 3\n",
    "fig_width, fig_height = (7.0,5.0)\n",
    "\n",
    "matplotlib.rcParams['figure.figsize'] = (fig_width, fig_height)\n",
    "\n",
    "# font = {'family' : 'sans-serif',\n",
    "#         'weight' : 'normal',\n",
    "#         'size'   : 18.0}\n",
    "# matplotlib.rc('font', **font)  # pass in the font dict as kwar"
   ]
  },
  {
   "cell_type": "code",
   "execution_count": 104,
   "metadata": {},
   "outputs": [],
   "source": [
    "import chaospy as cp\n",
    "import numpy as np\n",
    "from numpy import linalg as LA"
   ]
  },
  {
   "cell_type": "markdown",
   "metadata": {},
   "source": [
    "# Introduction\n",
    "<div id=\"sec:introduction\"></div>\n",
    "\n",
    "The Ishigami function"
   ]
  },
  {
   "cell_type": "markdown",
   "metadata": {},
   "source": [
    "<!-- Equation labels as ordinary links -->\n",
    "<div id=\"_auto1\"></div>\n",
    "\n",
    "$$\n",
    "\\begin{equation}\n",
    "y = \\sin(z_1) + a \\sin^2(z_2) + b z_3^4 \\sin(z_1)\n",
    "\\label{_auto1} \\tag{1}\n",
    "\\end{equation}\n",
    "$$"
   ]
  },
  {
   "cell_type": "markdown",
   "metadata": {},
   "source": [
    "is a commonly used benchmark function for sensitivity analysis. You will now get the chance to evaluate polynomial chaos on this function.\n",
    "\n",
    "Each component of $\\mathbf{Z}$ is distributed uniformly over the range $(-\\pi, \\pi)$ and $a=7$ while $b=0.1$.\n",
    "\n",
    "These two functions implement the function in python as well as the exact solutions for its mean, variance and sensitivities."
   ]
  },
  {
   "cell_type": "code",
   "execution_count": 105,
   "metadata": {},
   "outputs": [],
   "source": [
    "def ishigami_function(sample):\n",
    "    q1 = sample[0]\n",
    "    q2 = sample[1]\n",
    "    q3 = sample[2]\n",
    "    a = 7.\n",
    "    b = 0.1\n",
    "    return np.sin(q1) + a*np.sin(q2)**2 + b* q3**4 * np.sin(q1)\n",
    "\n",
    "def ishigami_analytic():\n",
    "    #Analytical values\n",
    "    #Total variance\n",
    "    measures = {}\n",
    "    a = 7.\n",
    "    measures[\"mean\"] = a/2.0\n",
    "    b = 0.1\n",
    "    D = a**2./8 + b*np.pi**4./5 + b**2*np.pi**8./18 + 1./2\n",
    "    measures \n",
    "    measures[\"var\"] = D\n",
    "    # Conditional variances\n",
    "    D1 = b*np.pi**4./5 + b**2*np.pi**8./50. + 1./2\n",
    "    D2 = a**2/8.\n",
    "    D3 = 0\n",
    "    \n",
    "    D12  = 0\n",
    "    D13  = b**2. * np.pi**8 / 18 - b**2*np.pi**8./50.\n",
    "    D23  = 0\n",
    "    D123 = 0\n",
    "    \n",
    "    # Main and total sensitivity indices\n",
    "    measures[\"sens_m\"] = {}\n",
    "    measures[\"sens_m\"][0] = D1/D\n",
    "    measures[\"sens_m\"][1] = D2/D\n",
    "    measures[\"sens_m\"][2] = D3/D\n",
    "   \n",
    "\n",
    "    measures[\"sens_t\"] = {}\n",
    "    measures[\"sens_t\"][0] = (D1 + D12 + D13 + D123)/D\n",
    "    measures[\"sens_t\"][1] = (D2 + D12 + D23 + D123)/D\n",
    "    measures[\"sens_t\"][2] = (D3 + D13 + D23 + D123)/D\n",
    "    return measures"
   ]
  },
  {
   "cell_type": "markdown",
   "metadata": {},
   "source": [
    "Compare the results you get for different methods of performing polynomial chaos with this function. What sampling methods work best?"
   ]
  },
  {
   "cell_type": "code",
   "execution_count": 106,
   "metadata": {},
   "outputs": [],
   "source": [
    "measures=ishigami_analytic()"
   ]
  },
  {
   "cell_type": "code",
   "execution_count": 107,
   "metadata": {},
   "outputs": [
    {
     "data": {
      "text/plain": [
       "{'mean': 3.5,\n",
       " 'sens_m': {0: 0.31390519114781146, 1: 0.4424111447900409, 2: 0.0},\n",
       " 'sens_t': {0: 0.5575888552099592,\n",
       "  1: 0.4424111447900409,\n",
       "  2: 0.24368366406214773},\n",
       " 'var': 13.844587940719254}"
      ]
     },
     "execution_count": 107,
     "metadata": {},
     "output_type": "execute_result"
    }
   ],
   "source": [
    "measures"
   ]
  },
  {
   "cell_type": "code",
   "execution_count": 108,
   "metadata": {},
   "outputs": [
    {
     "name": "stdout",
     "output_type": "stream",
     "text": [
      "Parameter S1 S1_conf ST ST_conf\n",
      "x1 0.307975 0.072571 0.560137 0.091639\n",
      "x2 0.447767 0.058452 0.438722 0.039226\n",
      "x3 -0.004255 0.063178 0.242845 0.025462\n",
      "\n",
      "Parameter_1 Parameter_2 S2 S2_conf\n",
      "x1 x2 0.012205 0.092464\n",
      "x1 x3 0.251526 0.112856\n",
      "x2 x3 -0.009954 0.066687\n",
      "[ 0.30797549  0.44776661 -0.00425452]\n"
     ]
    }
   ],
   "source": [
    "from SALib.sample import saltelli\n",
    "from SALib.analyze import sobol\n",
    "from SALib.test_functions import Ishigami\n",
    "import numpy as np\n",
    "\n",
    "# Define the model inputs\n",
    "problem = {\n",
    "    'num_vars': 3,\n",
    "    'names': ['x1', 'x2', 'x3'],\n",
    "    'bounds': [[-3.14159265359, 3.14159265359],\n",
    "               [-3.14159265359, 3.14159265359],\n",
    "               [-3.14159265359, 3.14159265359]]\n",
    "}\n",
    "\n",
    "# Generate samples\n",
    "param_values = saltelli.sample(problem, 1000)\n",
    "\n",
    "# Run model (example)\n",
    "Y = ishigami_function (param_values.T) #Ishigami.evaluate(samples_pc.T) # #\n",
    "\n",
    "# Perform analysis\n",
    "Si = sobol.analyze(problem, Y, print_to_console=True)\n",
    "\n",
    "# Print the first-order sensitivity indices\n",
    "print (Si['S1'])"
   ]
  },
  {
   "cell_type": "code",
   "execution_count": 109,
   "metadata": {},
   "outputs": [
    {
     "name": "stdout",
     "output_type": "stream",
     "text": [
      "Parameter                         Mu_Star         Mu    Mu_Star_Conf      Sigma\n",
      "x1                                  7.991      7.991           0.403      6.245\n",
      "x2                                  7.875      0.236           0.000      7.875\n",
      "x3                                  6.411     -0.037           0.385      8.956\n",
      "{'mu_star_conf': [0.40281012695872359, 0.0, 0.38506856162742298], 'names': ['x1', 'x2', 'x3'], 'mu_star': array([ 7.99149873,  7.875     ,  6.4112648 ]), 'sigma': array([ 6.24530481,  7.87539413,  8.95567817]), 'mu': array([ 7.99149873,  0.23625   , -0.03749278])}\n"
     ]
    }
   ],
   "source": [
    "from SALib.sample.morris import sample \n",
    "from SALib.analyze.morris import analyze\n",
    "X = sample(problem, 1000, num_levels=4, grid_jump=2)\n",
    "Y = ishigami_function(X.T)\n",
    "Si_m = analyze(problem, X, Y, conf_level=0.95,\n",
    "                     print_to_console=True, num_levels=4, grid_jump=2)\n",
    "print (Si_m)"
   ]
  },
  {
   "cell_type": "code",
   "execution_count": null,
   "metadata": {},
   "outputs": [],
   "source": []
  }
 ],
 "metadata": {
  "kernelspec": {
   "display_name": "Python [default]",
   "language": "python",
   "name": "python3"
  },
  "language_info": {
   "codemirror_mode": {
    "name": "ipython",
    "version": 3
   },
   "file_extension": ".py",
   "mimetype": "text/x-python",
   "name": "python",
   "nbconvert_exporter": "python",
   "pygments_lexer": "ipython3",
   "version": "3.5.2"
  }
 },
 "nbformat": 4,
 "nbformat_minor": 2
}
