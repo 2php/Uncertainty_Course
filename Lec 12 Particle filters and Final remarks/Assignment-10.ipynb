{
 "cells": [
  {
   "cell_type": "markdown",
   "metadata": {},
   "source": [
    "# **ELG 7172B : **: Homework 10"
   ]
  },
  {
   "cell_type": "markdown",
   "metadata": {},
   "source": [
    "Prof. Miodrag Bolic  <br>\n",
    "**Due: April 13, 2018** <br>\n",
    "Total number of points is . Please solve  out of  question. <br>\n",
    "Please select _ problems out of the following\n"
   ]
  },
  {
   "cell_type": "markdown",
   "metadata": {},
   "source": [
    "### Instructions:\n",
    "\n",
    "+ Upload your answers in an ipython notebook to UOttawa Bright Space.\n",
    "\n",
    "+ Your individual submissions should use the following filenames: ELG_7172B_YOURNAME_HW0.ipynb\n",
    "\n",
    "+ Your code should be in code cells as part of your ipython notebook. Do not use a different format. \n",
    "\n",
    "+ **Do not just send your code. The homework solutions should be in a report style. Be sure to add comments to your code as well as markdown cells where you describe your approach and discuss your results. **\n",
    "\n",
    "+ Please submit your notebook in an **executed** status, so that we can see all the results you computed. However, we will still run your code and all cells should reproduce the output when executed. \n",
    "\n",
    "+ If you have multiple files (e.g. you've added code files or images) create a tarball for all files in a single file and name it: ELG_7172B_YOURNAME_HW10.tar.gz or ELG_7172B_YOURNAME_HW10.zip\n",
    "\n",
    "\n",
    "### Have Fun!\n",
    "_ _ _ _ _"
   ]
  },
  {
   "cell_type": "markdown",
   "metadata": {},
   "source": [
    "# Noisy Pendulum Model\n",
    "This material is from the book: S. Sarrka, Bayesian Filtering and Smoothing, Cambridge University Press, 2013.\n",
    "\n",
    " The differential equation for a simple pendulum with unit length and mass can be written as \n",
    "\n",
    "$\\frac{\\partial^2 \\alpha }{\\partial x^2} = -g sin(\\alpha ) + w(t)$\n",
    "\n",
    "where $\\alpha $ is the angle, g is the gravitational acceleration and $w(t)$ is a random noise process. This model can be converted \n",
    "into the following state space model:\n",
    "   \n",
    "$ \\frac{\\mathrm{d} }{\\mathrm{d} t} \\binom{x_{1}}{x_{2}} = \\binom{x_{1}}{-gsin(x_{1})} + \\binom{0}{1} w(t) $\n",
    "    \n",
    "where $x_{1} = \\alpha $ and $x_{2} = \\frac{\\mathrm{d} \\alpha }{\\mathrm{d} x} $ . this can be seen to be special case of continuous-time and non-linear dynamic models of the form $ \\frac{\\mathrm{d} x }{\\mathrm{d} t} $= $f(x) + Lw $\n",
    "    \n",
    "where f(x) is a non-linear function. We can then for example consider measuring the angular position of the pendulum, which leads to the linear \n",
    "Gaussian measurement model\n",
    "\n",
    "  $ y_{k} = \\alpha(t_{k}) + $  noise\n",
    "    \n",
    "But if we measure the horizontal position of the pendulum, we would get a non-linear measurement model\n",
    "\n",
    "  $ y_{k} = sin(\\alpha(t_{k})) + $  noise\n",
    "    \n",
    "By a suitable numerical integration scheme we can convert the non-linear dynamic model into discrete time, non-linear dynamic model, which then \n",
    "results in a model of the generic non-linear state space form \n",
    "\n",
    "  $ x_{k} = f(x_{k-1}, q_{k-1})$\n",
    "    \n",
    "  $ y_{k} = h(x_{k}, r_{k})$\n",
    "\n",
    "where $y_{k}$ is the vector of measurements $q_{k-1} \\sim N(0,Q)$ and $r_{k} \\sim N(0,R)$. Estimation of the pendulum state can now be implemented using \n",
    "extended kalman filter , unscented Kalman filter (UKF) or particular filter. \n",
    "    \n",
    "\n"
   ]
  },
  {
   "cell_type": "markdown",
   "metadata": {},
   "source": [
    "![alt text](image.png \"Title\")\n",
    "\n",
    "Illustration of pendulum example. \n",
    "In addition to the gravitation g there is an additional unknown force component w(t). which is modeled as white noise. "
   ]
  },
  {
   "cell_type": "markdown",
   "metadata": {},
   "source": [
    "# Problem 1 \n",
    "A simple discretization of the pendulum model above leads to the following model: \n",
    "        \n",
    "$\\begin{bmatrix}\n",
    "x_{1,k}\n",
    "\\\\ \n",
    "x_{2,k}\n",
    "\\end{bmatrix}  \n",
    "= \n",
    "\\begin{bmatrix}\n",
    "x_{1,k-1}+x_{2,k-1}\\Delta t\n",
    "\\\\ \n",
    "x_{2,k-1}-gsin(x_{1,k-1})\\Delta t\n",
    "\\end{bmatrix}$\n",
    "$+ q_{k-1}$\n",
    "    \n",
    "where $x_{(k)}= \n",
    "\\begin{bmatrix}\n",
    "x_{1,k}\n",
    "\\\\ \n",
    "x_{2,k}\n",
    "\\end{bmatrix}$\n",
    "\n",
    "and $f(x_{k-1}) = \n",
    "\\begin{bmatrix}\n",
    "x_{1,k-1}+x_{2,k-1}\\Delta t\n",
    "\\\\ \n",
    "x_{2,k-1}-gsin(x_{1,k-1})\\Delta t\n",
    "\\end{bmatrix} $\n",
    "\n",
    "Also,\n",
    "\n",
    "$y_{k} = sin(x_{1,k})+r_{k}$\n",
    "    \n",
    "where $q_{k-1} \\sim N(0,Q)$ and $r_{k} \\sim N(O,R)$ with \n",
    "    \n",
    "  $Q = \\begin{bmatrix}\n",
    "q^{c} \\Delta t^{3}/3 & q^{c} \\Delta t^{2}/2\\\\  \n",
    "q^{c} \\Delta t^{2}/2 & q^{c} \\Delta t\\\\ \n",
    "\\end{bmatrix} $\n",
    "    \n",
    "where $q^{c}$ is the spectral density of the continous-time process noise. Assume that $  \\Delta t=0.01 $, g  = 9.81, $q^{c}=0.01$, R  = 0.1.\n",
    "\n",
    "Estimate the position of pendulum over time using particle filter. Compare your estimate with the true values. Observed values $y$ are store in the file Pendulum.txt  - this is your input that you need to read sequentially. \n",
    "\n",
    "(You can use FilterPy implementation https://github.com/rlabbe/Kalman-and-Bayesian-Filters-in-Python.)"
   ]
  },
  {
   "cell_type": "markdown",
   "metadata": {},
   "source": [
    "**Please answer this problem by adding cells here.** $$ $$\n"
   ]
  },
  {
   "cell_type": "markdown",
   "metadata": {
    "collapsed": true
   },
   "source": [
    "# Problem 2 \n",
    "This problem is related to voltage measurement of the battery of the car. Every time the voltage is measured it has different value due to noise. Filtering of the noise will be done using Kalman filter. The model is as follows: <br>\n",
    "$x_{k+1}=x_k$ <br>\n",
    "$z_k=x_k+v_k$ <br>\n",
    "$x_0=14$, <br>\n",
    "$v_k \\sim N(0,2)$\n",
    "1.\tGenerate noisy data for N=50 measurements\n",
    "2.\tPerform Kalman or particle filtering\n",
    "3.\tAnalyze the error covariance as the time passes\n",
    "(You can use FilterPy implementation https://github.com/rlabbe/Kalman-and-Bayesian-Filters-in-Python.)\n"
   ]
  },
  {
   "cell_type": "code",
   "execution_count": null,
   "metadata": {},
   "outputs": [],
   "source": []
  }
 ],
 "metadata": {
  "anaconda-cloud": {},
  "kernelspec": {
   "display_name": "Python [default]",
   "language": "python",
   "name": "python3"
  },
  "language_info": {
   "codemirror_mode": {
    "name": "ipython",
    "version": 3
   },
   "file_extension": ".py",
   "mimetype": "text/x-python",
   "name": "python",
   "nbconvert_exporter": "python",
   "pygments_lexer": "ipython3",
   "version": "3.5.2"
  }
 },
 "nbformat": 4,
 "nbformat_minor": 2
}
