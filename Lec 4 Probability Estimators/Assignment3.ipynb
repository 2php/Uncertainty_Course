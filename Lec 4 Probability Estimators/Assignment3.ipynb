{
 "cells": [
  {
   "cell_type": "markdown",
   "metadata": {},
   "source": [
    "# **ELG 7172B : **: Homework 3"
   ]
  },
  {
   "cell_type": "markdown",
   "metadata": {},
   "source": [
    "##### Prof. Miodrag Bolic  <br>\n",
    "**Due: Feb 4, 2018** <br>\n",
    "Total number of points is 9. Please solve 3 out of 5 problems. <br>\n"
   ]
  },
  {
   "cell_type": "markdown",
   "metadata": {},
   "source": [
    "### Instructions:\n",
    "\n",
    "+ Upload your answers in an ipython notebook to UOttawa Bright Space.\n",
    "\n",
    "+ Your individual submissions should use the following filenames: ELG_7172B_YOURNAME_HW3.ipynb\n",
    "\n",
    "+ Your code should be in code cells as part of your ipython notebook. Do not use a different format. \n",
    "\n",
    "+ **Do not just send your code. The homework solutions should be in a report style. Be sure to add comments to your code as well as markdown cells where you describe your approach and discuss your results. **\n",
    "\n",
    "+ Please submit your notebook in an **executed** status, so that we can see all the results you computed. However, we will still run your code and all cells should reproduce the output when executed. \n",
    "\n",
    "+ If you have multiple files (e.g. you've added code files or images) create a tarball for all files in a single file and name it: ELG_7172B_YOURNAME_HW3.tar.gz or ELG_7172B_YOURNAME_HW3.zip\n",
    "\n",
    "\n",
    "\n",
    "_ _ _ _ _"
   ]
  },
  {
   "cell_type": "code",
   "execution_count": 1,
   "metadata": {
    "collapsed": true
   },
   "outputs": [],
   "source": [
    "import numpy as np\n",
    "import matplotlib\n",
    "import matplotlib.pyplot as plt\n",
    "from mpl_toolkits.mplot3d import Axes3D\n",
    "%matplotlib inline\n",
    "\n",
    "import seaborn as sns\n",
    "sns.set_style(\"white\")\n",
    "\n",
    "import time\n",
    "\n",
    "import scipy.stats "
   ]
  },
  {
   "cell_type": "markdown",
   "metadata": {},
   "source": [
    "# Problem 1:\n",
    "Consider two sensors that measure the length of the object where the measurements $z_1$ and $z_2$ from the sensors are modelled as independent normal distributions: <br>\n",
    "$z_1 = \\theta + w_1, p(z_1|\\theta)$ ∼ $N(\\theta, {\\sigma_1}^2)$ <br>\n",
    "$z_2 = \\theta + w_2, p(z_2|\\theta)$ ∼ $N(\\theta, {\\sigma_2}^2)$ <br>\n",
    "\n",
    "We have prior information: $p(\\theta) ∼ N(\\theta_p, {\\sigma_p}^2)$. Please note that the same problem was done in the class for N measurements. <br>\n",
    "a) What is the MAP estimate and the standard error?<br>\n",
    "b) Assume that ${σ_p}^2$ changes its value from 50 up to 3000 in steps of 50. Assume that the we have $p(z_1|\\theta)$ ∼ $N(\\theta, 10^2)$, $p(z_2|\\theta)$ ∼ $N(\\theta,20^2)$, and the prior is $p(\\theta) ∼ N(150, {\\sigma_p}^2)$. Suppose we obtain sensor readings of $z_1$ = 130, $z_2$ = 170. Write a Python program that computes MAP estimates as a function of ${\\sigma_p}^2$. <br>\n",
    "c) Write a program in Python that draws on the same figure prior, likelihood and posterior when ${\\sigma_p}^2=30^2$. <br>\n",
    "d) What is maximum likelihood estimate and the standard error. <br>\n",
    "e) How do MAP and ML compare? What happens in the graph in part b) when ${\\sigma_p}^2$ is very large? <br>\n"
   ]
  },
  {
   "cell_type": "markdown",
   "metadata": {},
   "source": [
    "**Please answer this problem by adding cells here.**"
   ]
  },
  {
   "cell_type": "markdown",
   "metadata": {},
   "source": [
    "# Problem 2:\n",
    "Joint probabilities for the discrete random variables X, Z are given by<br>\n",
    "\n",
    " | X = 1 | X = 2 | X = 3\n",
    "------------ | -------------\n",
    "Z = 1 | 0.2 |0.07 |0.06\n",
    "Z = 2| 0.09 |0.1 |0.01\n",
    "Z = 3 |0.02 |0.12 |0.09\n",
    "Z = 4 |0.06 |0.08| 0.1\n",
    "\n",
    "(a) Check the normalisation of the joint distribution <br>\n",
    "(b) Compute the marginal probability distributions for X, Z.<br>\n",
    "(c) Compute the conditional distribution P(Z|X = 3)<br>\n",
    "(d) Use Bayes’ rule to compute P(X = 3|Z = 4) using only information in the previous 2 parts; then check the answer by direct calculation from the table above.<br>\n",
    "e) (Bonus) Write Python code to compute marginal and conditional distribution in (b) and (c). You can see how to compute marginal densities here: http://python-for-signal-processing.blogspot.ca/2012/11/conditional-expectation-and-mean.html or you can find your own way. <br>\n",
    "\n"
   ]
  },
  {
   "cell_type": "markdown",
   "metadata": {},
   "source": [
    "**Please answer this problem by adding cells here.**"
   ]
  },
  {
   "cell_type": "markdown",
   "metadata": {},
   "source": [
    "# Problem 3:\n",
    "\n",
    "Perform linear regression using the linear regression command given in Python  - please see https://github.com/EFavDB/linear-regression for info on how to do that. \n",
    "\n",
    "Consider the following two-dimensional data, in which X is the independent\n",
    "variable, and Y is the dependent variable \n",
    "\n",
    "xi |yi\n",
    "------------ | -------------\n",
    "0 |25\n",
    "1 |36\n",
    "2 |47\n",
    "3 |64\n",
    "4 |81\n",
    "\n",
    "(a) Find the best-fit parameters a, b of the linear regression curve\n",
    "$$y(x)=a + bx$$\n",
    "also find the errors in the best-fit parameters and the correlation coefficient between them; <br>\n",
    "(b) Find the minimum mean square error of the fit. <br>\n",
    "(c) Show in the figure the curve that is fitted, error bars and confidence intervals. <br>\n",
    "(d) Explore at least 3 more parameters that are provided as a result of sm.OLS().fit(). Provide explanation of the parameter and if the value that is obtained is reasonable, small or large of that parameter. <br>"
   ]
  },
  {
   "cell_type": "markdown",
   "metadata": {
    "collapsed": true
   },
   "source": [
    "**Please answer this problem by adding cells here.**"
   ]
  },
  {
   "cell_type": "markdown",
   "metadata": {
    "collapsed": true
   },
   "source": [
    "# Problem 4:\n",
    "Implement in Python example 19 from   https://pdfs.semanticscholar.org/0c35/cbd410af71673f0bcfd3107ccf6b30c8f2e7.pdf . Compare the results from the analysis in Python with the derived result in the document."
   ]
  },
  {
   "cell_type": "markdown",
   "metadata": {},
   "source": [
    "# Problem 5:\n",
    "Let us perform N measurements $x$ of the height of particular plant. We would like to estimate the mean of the measurements and we know that the height of that plant follows Normal distribution. We come up with 6 estimators:\n",
    "1. sum all $x$ and divide by N\n",
    "2. sum first K measurements and devide by K $(K<N)$\n",
    "3. average the smallest and the largest value\n",
    "4. sort all x and take the middle value (median)\n",
    "5. bin the data and take the most frequent (mode)\n",
    "6. disregard the measurement and select the value based on prior knowledge (for example 1 m).\n",
    "\n",
    "Which of these estimator (and why) is <br>\n",
    "(a) unbiased <br>\n",
    "(b) consistent <br>\n",
    "(c) Comment on efficiency of these estimators. <br>\n",
    "Please use the definition of these terms (unbiased, consistent and efficient estimator) and see how the proposed estimators fit the definition."
   ]
  },
  {
   "cell_type": "code",
   "execution_count": null,
   "metadata": {
    "collapsed": true
   },
   "outputs": [],
   "source": []
  }
 ],
 "metadata": {
  "anaconda-cloud": {},
  "kernelspec": {
   "display_name": "Python 3",
   "language": "python",
   "name": "python3"
  },
  "language_info": {
   "codemirror_mode": {
    "name": "ipython",
    "version": 3
   },
   "file_extension": ".py",
   "mimetype": "text/x-python",
   "name": "python",
   "nbconvert_exporter": "python",
   "pygments_lexer": "ipython3",
   "version": "3.6.1"
  }
 },
 "nbformat": 4,
 "nbformat_minor": 1
}
