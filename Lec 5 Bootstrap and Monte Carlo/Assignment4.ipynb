{
 "cells": [
  {
   "cell_type": "markdown",
   "metadata": {},
   "source": [
    "# **ELG 7172B : **: Homework 4"
   ]
  },
  {
   "cell_type": "markdown",
   "metadata": {},
   "source": [
    "##### Prof. Miodrag Bolic  <br>\n",
    "**Due: Feb 11, 2018** <br>\n",
    "Total number of points is 10.  <br>\n",
    "Bonus is additional 6 points."
   ]
  },
  {
   "cell_type": "markdown",
   "metadata": {},
   "source": [
    "### Instructions:\n",
    "\n",
    "+ Upload your answers in an ipython notebook to UOttawa Bright Space.\n",
    "\n",
    "+ Your individual submissions should use the following filenames: ELG_7172B_YOURNAME_HW4.ipynb\n",
    "\n",
    "+ Your code should be in code cells as part of your ipython notebook. Do not use a different format. \n",
    "\n",
    "+ **Do not just send your code. The homework solutions should be in a report style. Be sure to add comments to your code as well as markdown cells where you describe your approach and discuss your results. **\n",
    "\n",
    "+ Please submit your notebook in an **executed** status, so that we can see all the results you computed. However, we will still run your code and all cells should reproduce the output when executed. \n",
    "\n",
    "+ If you have multiple files (e.g. you've added code files or images) create a tarball for all files in a single file and name it: ELG_7172B_YOURNAME_HW3.tar.gz or ELG_7172B_YOURNAME_HW4.zip\n",
    "\n",
    "\n",
    "\n",
    "_ _ _ _ _"
   ]
  },
  {
   "cell_type": "code",
   "execution_count": 1,
   "metadata": {
    "collapsed": true
   },
   "outputs": [],
   "source": [
    "import numpy as np\n",
    "import matplotlib\n",
    "import matplotlib.pyplot as plt\n",
    "from mpl_toolkits.mplot3d import Axes3D\n",
    "%matplotlib inline\n",
    "\n",
    "import seaborn as sns\n",
    "sns.set_style(\"white\")\n",
    "\n",
    "import time\n",
    "\n",
    "import scipy.stats "
   ]
  },
  {
   "cell_type": "markdown",
   "metadata": {},
   "source": [
    "# Problem 1:\n",
    "Using the following sample data: 4.94, 5.06, 4.53, 5.07, 4.99, 5.16, 4.38, 4.43, 4.93, 4.72, 4.92, 4.96 <br>\n",
    "a) Compute the mean and its standard error (from the standard deviation) and the median. <br>\n",
    "b) Compute bootstrap estimates of the mean and median with estimates of their standard errors, using B = 1000 resamples. Also compute the median of the median estimates. <br>\n",
    "c) Compare the results of parts a) and b). <br>\n",
    "\n"
   ]
  },
  {
   "cell_type": "markdown",
   "metadata": {},
   "source": [
    "**Please answer this problem by adding cells here.**"
   ]
  },
  {
   "cell_type": "markdown",
   "metadata": {},
   "source": [
    "# Problem 2:\n",
    "(2 points) Outliers can strongly influence statistics such as the mean and the least-squares line. The following data contains a low outlier in the value 29.12: \n",
    "41.28, 45.16, 34.75, 40.76, 43.61, 39.05, 41.20, 41.02, 41.33, 40.61, 40.49, 41.77, 42.07, 44.83, 29.12, 45.59, 41.95, 45.78, 42.89, 40.42, 49.31, 44.01, 34.87, 38.60, 39.63, 38.52, 38.52, 43.95, 49.08, 50.52, 43.85, 40.64, 45.86, 41.25, 50.35, 45.18, 39.67, 43.89, 43.89, 42.16. <br>\n",
    "a) Generate a boxplot of the data to identify 29.12 as an outlier. <br>\n",
    "b) Bootstrap the data and obtain bootstrap mean with and without the outlier. Plot histograms of the resampling distributions of the bootstrap means. How does the outlier influence the shape and bias of the bootstrap distribution? <br>\n",
    "c) Find 95% confidence intervals for the population mean from both bootstrap distributions. Discuss the differences. <br>\n"
   ]
  },
  {
   "cell_type": "markdown",
   "metadata": {},
   "source": [
    "**Please answer this problem by adding cells here.**"
   ]
  },
  {
   "cell_type": "markdown",
   "metadata": {},
   "source": [
    "# Problem 3:\n",
    "\n",
    "Implement code in Python using the sample code on Bright Space (Monte Carlo Code Example.ipynb) so that you reproduce figures  3.6-3.8 and results that correspond to these figures from the book Understanding Computational Bayesian Statistics. Please make sure that you read whole chapter 3 from the book. \n",
    "a)\t(3 points) Use acceptance-importance sampling as explained in the book Understanding Computational Bayesian Statistics on page 54. <br>\n",
    "b)\t(Bonus 2 points) Use importance sampling from Monte Carlo Code Example.ipynb.<br>\n",
    "c)\t(Bonus 4 points Research) Instead of using code from Monte Carlo Code Example.ipynb, install chaospy (http://chaospy.readthedocs.io/en/master/montecarlo.html) using Latin Hypercube and at least one more sampling techniques. Show the results using these techniques. Write a small description on Latin Hypercube sampling and about the other method you selected. <br>\n"
   ]
  },
  {
   "cell_type": "markdown",
   "metadata": {
    "collapsed": true
   },
   "source": [
    "**Please answer this problem by adding cells here.**"
   ]
  },
  {
   "cell_type": "markdown",
   "metadata": {
    "collapsed": true
   },
   "source": [
    "# Problem 4:\n",
    "(3 point) In order to determine that there is significant evidence at 98% level of confidence that the mean calcium level of two types of products differ by more than 5 units, independent analysis of these two products was done. 20 samples of the first products were tested and the following results were obtained: mean = 21.3 and standard deviation = 1.8. 15 samples of the second product were tested with the mean of 14.2 and standard deviation of 2.4. Measurements of both products follow normal distribution. <br>\n",
    "To determine that one product has higher calcium level then the other at 98% confidence level is the same as determining if confidence intervals of difference of the means of the concentration levels of two products does not include value 5 at 98% level. Compute confidence level of the difference using the hint below and comment on if the difference is significant or not.\n",
    "<br><br>\n",
    "Hint: In one of the previous assignments, you worked on obtaining the mean and standard deviation of the sum of two random variables. In this example, we are looking at the difference between two random variables and we are trying to compute the confidence intervals of the difference. This is very important problem in statistics where it is important to observe if the data generated using new method/process/medicine significantly differ from the data generated using a traditional way. You know that the difference of two Gaussian random variables is also a random variable. Therefore use a formula that we had in the class for computing confidence intervals for the normal random variable but replace the mean and the variance with the mean and the variance of the difference of the random variables from the assignment #2. Please also note that both standard deviations need to be scaled with $\\sqrt(n_1)$ and $\\sqrt(n_2)$ respectively.   <br>\n"
   ]
  },
  {
   "cell_type": "markdown",
   "metadata": {
    "collapsed": true
   },
   "source": [
    "**Please answer this problem by adding cells here.**"
   ]
  },
  {
   "cell_type": "code",
   "execution_count": null,
   "metadata": {
    "collapsed": true
   },
   "outputs": [],
   "source": []
  }
 ],
 "metadata": {
  "anaconda-cloud": {},
  "kernelspec": {
   "display_name": "Python 3",
   "language": "python",
   "name": "python3"
  },
  "language_info": {
   "codemirror_mode": {
    "name": "ipython",
    "version": 3
   },
   "file_extension": ".py",
   "mimetype": "text/x-python",
   "name": "python",
   "nbconvert_exporter": "python",
   "pygments_lexer": "ipython3",
   "version": "3.6.1"
  }
 },
 "nbformat": 4,
 "nbformat_minor": 1
}
